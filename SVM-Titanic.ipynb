{
 "cells": [
  {
   "cell_type": "code",
   "execution_count": null,
   "id": "d37883ed-38b3-44a2-ba4c-3803f1da4bfd",
   "metadata": {},
   "outputs": [],
   "source": [
    "## Titanic survival predictor - Support Vector Machine"
   ]
  },
  {
   "cell_type": "code",
   "execution_count": null,
   "id": "a6edff01-9260-4ae2-a0ff-26e9abc8db61",
   "metadata": {},
   "outputs": [],
   "source": []
  }
 ],
 "metadata": {
  "kernelspec": {
   "display_name": "Python 3 (ipykernel)",
   "language": "python",
   "name": "python3"
  },
  "language_info": {
   "codemirror_mode": {
    "name": "ipython",
    "version": 3
   },
   "file_extension": ".py",
   "mimetype": "text/x-python",
   "name": "python",
   "nbconvert_exporter": "python",
   "pygments_lexer": "ipython3",
   "version": "3.13.5"
  }
 },
 "nbformat": 4,
 "nbformat_minor": 5
}
