{
 "cells": [
  {
   "cell_type": "markdown",
   "id": "6ad676a1-a636-47e2-8f6c-bceaeb39d12f",
   "metadata": {},
   "source": [
    "# Explanation\n",
    "*The purpose of this file is to represent the research I've learnt on the inner workings of support vector machines. This will include what it is, how it works, how to optimize it, different functions, etc. The aim of this to gain a deep confident grasp of SVM's. This research will be related/connect to this titanic model I'm making.*\n",
    "\n",
    "# Table of Contents:\n",
    "- [Classification VS Regression](\"ClassVSReg\")\n",
    "- [What is a Support Vector Machine?](\"svm-intro\")\n",
    "- [SVM Basic Code Explanation](\"svm-intro-code\")"
   ]
  },
  {
   "cell_type": "markdown",
   "id": "94eb3e52-57ae-4e5c-8b8a-e5623c42c342",
   "metadata": {},
   "source": [
    "<a name=\"ClassVSReg\"></a>\n",
    "# Classification VS Regression\n",
    "\n",
    "*Classification and regression are both types of supervised learning used in machine learning, where the goal is to train a model on labeled data to make predictions. The key difference lies in the type of output they produce: classification predicts discrete categories or class labels (such as 'spam' or 'not spam'), while regression predicts continuous numerical values (such as house prices or temperatures). Despite this difference, both approaches follow the same underlying process - learning a mapping from input features to an output - and use similar algorithms that are adapted to suit either categorical or continuous prediction tasks.*\n",
    "\n",
    "<p align=\"center\">\n",
    "  <img src=\"classification.png\" alt=\"Classification\" width=\"300\"/>\n",
    "  <img src=\"regression.png\" alt=\"Regression\" width=\"300\"/>\n",
    "</p>\n",
    "\n",
    "### Classification:\n",
    "Example:\n",
    "- A list of students in a class can be categorised by gender.\n",
    "- A dataset of images of hand-drawn numbers 0-9 can be classified into type integers.\n",
    "\n",
    "Common Usage:\n",
    "- Medical diagnostics\n",
    "- Identifying spam vs non-spam\n",
    "- Identifying whether a file is malicous\n",
    "- Image recognistion\n",
    "\n",
    "### Regression:\n",
    "Example:\n",
    "- Predicting the price of a house based on its features (size, location, number of rooms).\n",
    "- Estimating a person's weight based on height and age.\n",
    "\n",
    "Common Usage:\n",
    "- Forecasting stock prices or sales revenue\n",
    "- Predicting temperature or rainfall levels\n",
    "- Estimating delivery time or traffic flow\n",
    "- Modeling population growth over time\n"
   ]
  },
  {
   "cell_type": "markdown",
   "id": "e82aee66-dcaa-42cc-abbf-edb6adf92849",
   "metadata": {},
   "source": [
    "<a name=\"svm-intro\"></a>\n",
    "# What is a Support Vector Machine?\n",
    "\n",
    "*A Support Vector Machine (SVM) is a supervised machine learning algorithm used for both classification and regression tasks. In this project, the focus will be on **classification**, not regression.*\n",
    "\n",
    "### How It Works:\n",
    "\n",
    "SVM works by plotting data points in a multi-dimensional space, where each feature represents one axis (or dimension).  \n",
    "- For example: a dataset with two features like **height** and **weight** can be visualized in a 2D space.  \n",
    "- A dataset with three features would be 3D, and so on.\n",
    "\n",
    "The SVM algorithm then attempts to find the **best hyperplane** that separates the different classes of data. A hyperplane is a decision boundary:\n",
    "- In **2D**, it’s a line (1D hyperplane).\n",
    "- In **3D**, it’s a plane (2D hyperplane).\n",
    "- In general, the hyperplane is always **one dimension less** than the feature space.\n",
    "\n",
    "The key question is: **where should the hyperplane be placed?**\n",
    "\n",
    "SVM answers this by choosing the hyperplane that **maximizes the margin** — the distance between the hyperplane and the **nearest data points** from each class (called **support vectors**). This helps improve generalization to new data and makes SVM robust. The margin would be the distance between the hyperplane and the dotted line below.\n",
    "<p align=\"center\">\n",
    "  <img src=\"margin.png\" alt=\"margin\" width=\"300\"/>\n",
    "</p>\n",
    "\n",
    "### Types of Margins\n",
    "*Hard Margin: No misclassifications allowed; assumes data is perfectly separable*\n",
    "\n",
    "*Soft Margin: Allows some misclassification; better for real-world noisy data*\n"
   ]
  },
  {
   "cell_type": "markdown",
   "id": "d340f83e-56de-467e-a65d-b917be8f1029",
   "metadata": {},
   "source": [
    "<a name=\"svm-intro-code\"></a>\n",
    "# SVM Basic Code Explanation:\n",
    "\n",
    "The first bit of every AI model consists of data loading and data exploration. This can easily be done with the use of python modules such as- Pandas, matplotlib, numpy and seaborn.\n",
    "\n",
    "Pandas is a fasts and power tool to help analyses data and is my prefered way to load data from a csv file. Pandas can be easily installed from the console through the Python Package Installer (pip):\n",
    "\n",
    "pip install pandas\n",
    "\n",
    "To import the pandas library and load the data we can use these lines of code:"
   ]
  },
  {
   "cell_type": "code",
   "execution_count": null,
   "id": "8884e408-92a0-4f90-b5df-e284740d2577",
   "metadata": {},
   "outputs": [],
   "source": [
    "import pandas\n",
    "df = pandas.read_csv('titanic/train.csv') #Note that is pandas funciton to load csv files."
   ]
  },
  {
   "cell_type": "markdown",
   "id": "bbd518dd-7872-4b33-8328-c1cae9e950a5",
   "metadata": {},
   "source": [
    "We can analyse this dataframe (df) with pandas functions such as head(), describe() info().\n",
    "\n",
    "**head()** shows the first 5 (defualt) rows of the dataframe, head(x) shows the first x rows of the dataframe. \n",
    "\n",
    "**describe()** shows each column's count(cnt), mean, standard deviation (std), minimum (min), 25th percentile (25%). 50th percentile (50%), 75th percentile (75%), and maximum (max).\n",
    "\n",
    "**info()** shows each column's index (#), Column label, number of non-null values, and data type (Dtype). It also states the number of rows and columns."
   ]
  },
  {
   "cell_type": "code",
   "execution_count": null,
   "id": "090f94f4-898d-44c9-af30-d2abc3b5b953",
   "metadata": {},
   "outputs": [],
   "source": [
    "df.head()\n",
    "df.describe()\n",
    "df.info()"
   ]
  }
 ],
 "metadata": {
  "kernelspec": {
   "display_name": "Python 3 (ipykernel)",
   "language": "python",
   "name": "python3"
  },
  "language_info": {
   "codemirror_mode": {
    "name": "ipython",
    "version": 3
   },
   "file_extension": ".py",
   "mimetype": "text/x-python",
   "name": "python",
   "nbconvert_exporter": "python",
   "pygments_lexer": "ipython3",
   "version": "3.13.5"
  }
 },
 "nbformat": 4,
 "nbformat_minor": 5
}
