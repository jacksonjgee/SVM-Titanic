{
 "cells": [
  {
   "cell_type": "code",
   "execution_count": 1,
   "id": "b715c65a-9022-410b-bdd5-bb24b7d2e775",
   "metadata": {},
   "outputs": [],
   "source": [
    "## Titanic survival predictor - Support Vector Machine"
   ]
  },
  {
   "cell_type": "markdown",
   "id": "6ef04643-a793-4d73-85db-099b40784048",
   "metadata": {},
   "source": [
    "import pandas as pd\n",
    "import matplotlib.pyplot as plt\n",
    "import seaborn as sea\n",
    "\n",
    "# Load CSV from relative path\n",
    "df = pd.read_csv('titanic/train.csv')\n",
    "print(\"### Head:\\n\", df.head())\n",
    "print(\"\\n### Info:\\n\")\n",
    "df.info()\n",
    "print(\"\\n### Describe:\\n\")\n",
    "df.describe()\n",
    "print(\"Hello\")"
   ]
  },
  {
   "cell_type": "code",
   "execution_count": 4,
   "id": "670eb017-26b2-4037-a46a-6c1589d44969",
   "metadata": {},
   "outputs": [],
   "source": [
    "#Understand the Data through visual represenntations"
   ]
  },
  {
   "cell_type": "code",
   "execution_count": 5,
   "id": "36740414-db16-48c8-9267-7e9db517c744",
   "metadata": {},
   "outputs": [
    {
     "ename": "NameError",
     "evalue": "name 'df' is not defined",
     "output_type": "error",
     "traceback": [
      "\u001b[31m---------------------------------------------------------------------------\u001b[39m",
      "\u001b[31mNameError\u001b[39m                                 Traceback (most recent call last)",
      "\u001b[36mCell\u001b[39m\u001b[36m \u001b[39m\u001b[32mIn[5]\u001b[39m\u001b[32m, line 1\u001b[39m\n\u001b[32m----> \u001b[39m\u001b[32m1\u001b[39m \u001b[43mdf\u001b[49m[\u001b[33m'\u001b[39m\u001b[33mSurvived\u001b[39m\u001b[33m'\u001b[39m].value_counts(normalize=\u001b[38;5;28;01mTrue\u001b[39;00m).plot(kind=\u001b[33m'\u001b[39m\u001b[33mbar\u001b[39m\u001b[33m'\u001b[39m, title=\u001b[33m\"\u001b[39m\u001b[33mSurvival Count\u001b[39m\u001b[33m\"\u001b[39m)\n",
      "\u001b[31mNameError\u001b[39m: name 'df' is not defined"
     ]
    }
   ],
   "source": [
    "df['Survived'].value_counts(normalize=True).plot(kind='bar', title=\"Survival Count\")"
   ]
  },
  {
   "cell_type": "code",
   "execution_count": null,
   "id": "31ef3fdf-2478-4247-aaa1-a8416ef85dc3",
   "metadata": {},
   "outputs": [],
   "source": [
    "print(df.groupby('Sex')['Survived'].mean() , \"\\n\")\n",
    "print(df.groupby('Pclass')['Survived'].mean(), \"\\n\")\n",
    "print(df.groupby('Embarked')['Survived'].mean())"
   ]
  },
  {
   "cell_type": "code",
   "execution_count": null,
   "id": "51cd947d-683b-4ea5-bc49-455550893999",
   "metadata": {},
   "outputs": [],
   "source": [
    "## Encode Sex as numerical values\n",
    "df['Sex_encoded'] = df['Sex'].map({'male': 0, 'female': 1})\n",
    "\n",
    "## Encode Embarcked as a numerical value\n",
    "df['Embarked_encoded'] = df['Embarked'].map({'S': -1, 'C': 0, 'Q': 1})\n",
    "\n",
    "## Create Correlation matrix of data\n",
    "corr_matrix = df[['Survived', 'Pclass', 'Age', 'SibSp', 'Parch', 'Fare','Embarked_encoded', 'Sex_encoded']].corr()\n",
    "survived_corr = corr_matrix.loc['Survived'].drop('Survived')\n",
    "\n",
    "print(corr_matrix)\n",
    "# Plot  heatmap\n",
    "sea.heatmap(survived_corr.to_frame(), annot=True, cmap='coolwarm', vmin=-1, vmax=1)\n",
    "plt.title(\"Features Correlated with Survival (Ranked by Strength)\")\n",
    "plt.show()\n"
   ]
  }
 ],
 "metadata": {
  "kernelspec": {
   "display_name": "Python 3 (ipykernel)",
   "language": "python",
   "name": "python3"
  },
  "language_info": {
   "codemirror_mode": {
    "name": "ipython",
    "version": 3
   },
   "file_extension": ".py",
   "mimetype": "text/x-python",
   "name": "python",
   "nbconvert_exporter": "python",
   "pygments_lexer": "ipython3",
   "version": "3.13.5"
  }
 },
 "nbformat": 4,
 "nbformat_minor": 5
}
